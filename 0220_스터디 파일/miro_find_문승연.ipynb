{
 "cells": [
  {
   "cell_type": "code",
   "execution_count": null,
   "metadata": {},
   "outputs": [
    {
     "name": "stdout",
     "output_type": "stream",
     "text": [
      "BFS: 10\n"
     ]
    }
   ],
   "source": [
    "# 미로 탈출: \n",
    "# BFS 소스코드 구현\n",
    "from collections import deque\n",
    "\n",
    "# N,M을 공백을 기준으로 구분하여 입력 받기\n",
    "# map(int, iterable): 주어진 객체를 int 함수로 적용시켜 정수로 반환\n",
    "# n,m = map(int,input())\n",
    "\n",
    "# 2차원 리스트의 맵 정보 입력 받기\n",
    "graph = [\n",
    "    [1, 0, 1, 0, 1, 0],\n",
    "    [1, 1, 1, 1, 1, 1], \n",
    "    [1, 1, 1, 0, 0, 1], \n",
    "    [0, 0, 1, 1, 0, 1], \n",
    "    [1, 1, 0, 1, 1, 1]\n",
    "    ]\n",
    "n = 5\n",
    "m = 6\n",
    "#for i in range(n): # n = 5 / m = 6\n",
    "#    graph.append(list(map(int,input()))) # 5행을 의미하므로 5줄의 6개 행의 데이터 입력력\n",
    "#print(graph)\n",
    "\n",
    "# 이동할 네 가지 방향 정의(상, 하, 좌, 우)\n",
    "dx = [-1,1,0,0]\n",
    "dy = [0,0,-1,1]\n",
    "\n",
    "# BFS 소스 코드 구현\n",
    "def bfs(x,y):\n",
    "    queue = deque()\n",
    "    queue.append((x,y))\n",
    "    # 큐가 빌 때까지 반복하기\n",
    "    while queue:\n",
    "        x,y = queue.popleft()\n",
    "        #print(x,y)\n",
    "        # 현재 위치에서 4가지 방향으로의 위치 확인\n",
    "        for i in range(4):\n",
    "            nx = x + dx[i]\n",
    "            ny = y + dy[i]\n",
    "        \n",
    "        # 미로 찾기 공간을 벗어난 경우 무시\n",
    "            if nx < 0 or nx >= n or ny< 0 or ny >= m:\n",
    "                continue\n",
    "\n",
    "            # 벽인 경우 무시\n",
    "            if graph[nx][ny] == 1:\n",
    "                graph[nx][ny] = graph[x][y] + 1\n",
    "                queue.append((nx,ny))\n",
    "                \n",
    "    return graph[n-1][m-1] \n",
    "\n",
    "# BFS를 수행한 결과 출력\n",
    "print(\"BFS:\",bfs(0,0))"
   ]
  },
  {
   "cell_type": "code",
   "execution_count": null,
   "metadata": {},
   "outputs": [],
   "source": [
    "# DFS 소스코드 구현\n",
    "def dfs(x, y):\n",
    "    # 스택을 사용하여 DFS 구현\n",
    "    stack = [(x, y)]\n",
    "    \n",
    "    while stack:\n",
    "        x, y = stack.pop()\n",
    "        \n",
    "        # 현재 위치에서 4가지 방향으로 이동 가능 여부 확인\n",
    "        for i in range(4):\n",
    "            nx = x + dx[i]\n",
    "            ny = y + dy[i]\n",
    "\n",
    "            # 미로 공간을 벗어나면 무시\n",
    "            if nx < 0 or nx >= n or ny < 0 or ny >= m:\n",
    "                continue\n",
    "\n",
    "            # 이동할 수 있는 길(1)인 경우\n",
    "            if graph[nx][ny] == 1:\n",
    "                graph[nx][ny] = graph[x][y] + 1\n",
    "                stack.append((nx, ny))\n",
    "\n",
    "    return graph[n-1][m-1]\n",
    "\n",
    "# DFS 실행 결과 출력\n",
    "print(\"DFS:\",dfs(0,0))\n"
   ]
  },
  {
   "cell_type": "code",
   "execution_count": 2,
   "metadata": {},
   "outputs": [
    {
     "name": "stdout",
     "output_type": "stream",
     "text": [
      "회귀: 10\n"
     ]
    }
   ],
   "source": [
    "# DFS 소스코드 구현 (재귀 방식)\n",
    "def dfs(x, y, count):\n",
    "    # 미로 범위를 벗어나거나 벽(0)인 경우 종료\n",
    "    if x < 0 or x >= n or y < 0 or y >= m or graph[x][y] == 0:\n",
    "        return float('inf')  # 큰 값 반환하여 무시됨\n",
    "\n",
    "    # 목적지 도달 시 경로 길이 반환\n",
    "    if x == n - 1 and y == m - 1:\n",
    "        return count\n",
    "\n",
    "    # 방문 처리 (중복 방문 방지)\n",
    "    temp = graph[x][y]\n",
    "    graph[x][y] = 0  # 방문한 위치를 0으로 변경 (벽으로 만듦)\n",
    "\n",
    "    # 4방향 이동\n",
    "    min_path = float('inf')\n",
    "    for i in range(4):\n",
    "        nx = x + dx[i]\n",
    "        ny = y + dy[i]\n",
    "        min_path = min(min_path, dfs(nx, ny, count + 1))\n",
    "\n",
    "    # 원상복구 (다른 경로 탐색을 위해)\n",
    "    graph[x][y] = temp\n",
    "\n",
    "    return min_path\n",
    "\n",
    "# 최단 경로 출력\n",
    "print(\"회귀:\",dfs(0, 0, 1))\n"
   ]
  },
  {
   "cell_type": "code",
   "execution_count": null,
   "metadata": {},
   "outputs": [],
   "source": []
  }
 ],
 "metadata": {
  "kernelspec": {
   "display_name": "Python 3",
   "language": "python",
   "name": "python3"
  },
  "language_info": {
   "codemirror_mode": {
    "name": "ipython",
    "version": 3
   },
   "file_extension": ".py",
   "mimetype": "text/x-python",
   "name": "python",
   "nbconvert_exporter": "python",
   "pygments_lexer": "ipython3",
   "version": "3.11.8"
  }
 },
 "nbformat": 4,
 "nbformat_minor": 2
}
