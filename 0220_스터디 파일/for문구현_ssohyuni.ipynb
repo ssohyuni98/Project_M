{
  "nbformat": 4,
  "nbformat_minor": 0,
  "metadata": {
    "colab": {
      "provenance": []
    },
    "kernelspec": {
      "name": "python3",
      "display_name": "Python 3"
    },
    "language_info": {
      "name": "python"
    }
  },
  "cells": [
    {
      "cell_type": "code",
      "execution_count": 13,
      "metadata": {
        "colab": {
          "base_uri": "https://localhost:8080/"
        },
        "id": "vS_KxldfMdTD",
        "outputId": "f3e64706-a7bb-4de7-f0af-942df4bc8377"
      },
      "outputs": [
        {
          "output_type": "stream",
          "name": "stdout",
          "text": [
            "최소 이동 횟수: 10\n"
          ]
        }
      ],
      "source": []
    },
    {
      "cell_type": "code",
      "source": [
        "## for문 만 사용하여 모든 길을 탐색 -> 비효율\n",
        "## 시간 차이 보기 위해 실행\n",
        "\n",
        "def sol(array, N, M):\n",
        "    d = [[float('inf')] * M for _ in range(N)]\n",
        "    d[0][0] = 1\n",
        "\n",
        "    for _ in range(N * M):\n",
        "        for x in range(N):\n",
        "            for y in range(M):\n",
        "                if array[x][y] == 0:\n",
        "                    continue\n",
        "\n",
        "\n",
        "                if x > 0:\n",
        "                    d[x][y] = min(d[x][y], d[x-1][y] + 1)\n",
        "                if x < N-1:\n",
        "                    d[x][y] = min(d[x][y], d[x+1][y] + 1)\n",
        "                if y > 0:\n",
        "                    d[x][y] = min(d[x][y], d[x][y-1] + 1)\n",
        "                if y < M-1:\n",
        "                    d[x][y] = min(d[x][y], d[x][y+1] + 1)\n",
        "\n",
        "    return d[N-1][M-1]\n",
        "\n",
        "\n",
        "N, M = 5, 6\n",
        "array = [\n",
        "    [1, 0, 1, 0, 1, 0],\n",
        "    [1, 1, 1, 1, 0, 1],\n",
        "    [0, 0, 0, 0, 0, 1],\n",
        "    [1, 1, 1, 1, 1, 1],\n",
        "    [1, 1, 1, 0, 1, 1]\n",
        "]\n",
        "\n",
        "\n",
        "print(\"최소 이동 횟수:\", sol(array, N, M))\n"
      ],
      "metadata": {
        "colab": {
          "base_uri": "https://localhost:8080/"
        },
        "id": "_wMYE-T4QV24",
        "outputId": "5b938b9f-f535-432c-d39a-a32648cfba07"
      },
      "execution_count": 18,
      "outputs": [
        {
          "output_type": "stream",
          "name": "stdout",
          "text": [
            "최소 이동 횟수: inf\n"
          ]
        }
      ]
    }
  ]
}