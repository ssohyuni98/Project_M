{
  "nbformat": 4,
  "nbformat_minor": 0,
  "metadata": {
    "colab": {
      "provenance": [],
      "collapsed_sections": [
        "eax3O_gsdN8p",
        "EpdcxynW9m1T",
        "9TQj0fI88fNe",
        "eVDxBk8z9fRw",
        "W4AB8L2tXC3V",
        "y3tABloLg4CR"
      ]
    },
    "kernelspec": {
      "name": "python3",
      "display_name": "Python 3"
    },
    "language_info": {
      "name": "python"
    }
  },
  "cells": [
    {
      "cell_type": "markdown",
      "source": [
        "---\n",
        "# 5주차"
      ],
      "metadata": {
        "id": "pQbkcdvrra_p"
      }
    },
    {
      "cell_type": "markdown",
      "source": [
        "## **Class 오버라이딩**\n",
        "아래의 클래스를 상속받는 Dog 클래스를 생성하고, speak 메서드를 오버라이딩하여 Dog 클래스의 인스턴스가 Woof! 를 반환하도록 작성하시오."
      ],
      "metadata": {
        "id": "eax3O_gsdN8p"
      }
    },
    {
      "cell_type": "markdown",
      "source": [
        "###풀이"
      ],
      "metadata": {
        "id": "EpdcxynW9m1T"
      }
    },
    {
      "cell_type": "code",
      "source": [
        "class Animal:\n",
        "    def speak(self):\n",
        "        return \"Animal speaks\"\n",
        "\n",
        "class Dog(Animal):\n",
        "    def speak(self):\n",
        "        return 'Woof!'\n",
        "\n",
        "dog = Dog()\n",
        "print(dog.speak())"
      ],
      "metadata": {
        "id": "X7Tppgh9cl8T"
      },
      "execution_count": null,
      "outputs": []
    },
    {
      "cell_type": "markdown",
      "source": [
        "## **정규표현식과 이터레이터를 활용한 단어 필터링<br>**\n",
        "문제: 텍스트 파일을 읽어 특정 패턴(예: ing로 끝나는 단어)을 찾고, 이를 이터레이터를 사용하여 한 줄씩 반환하는 프로그램을 작성하시오.\n",
        "\n",
        "* 클래스 WordFilter를 작성하여 __iter__()를 구현하고 이터레이터를 활용\n",
        "* re 모듈을 이용하여 정규표현식으로 단어 필터링"
      ],
      "metadata": {
        "id": "9TQj0fI88fNe"
      }
    },
    {
      "cell_type": "code",
      "source": [
        "with open('./data.txt', 'w') as f:\n",
        "    data = '''This is a simple testing file.\n",
        "We are running and jumping in the park.\n",
        "Walking and swimming are great exercises.\n",
        "The weather is shining brightly today.\n",
        "Enjoying a good book is relaxing.\n",
        "They are discussing an interesting topic.\n",
        "Coding and debugging are essential skills for developers.\n",
        "Traveling around the world is a dream for many.\n",
        "Some people prefer hiking while others enjoy fishing.\n",
        "He was whispering something before leaving the room.'''\n",
        "    f.write(data)"
      ],
      "metadata": {
        "id": "4y5M-Jd0V4I1"
      },
      "execution_count": null,
      "outputs": []
    },
    {
      "cell_type": "markdown",
      "source": [
        "###풀이"
      ],
      "metadata": {
        "id": "eVDxBk8z9fRw"
      }
    },
    {
      "cell_type": "code",
      "source": [
        "import re\n",
        "\n",
        "class WordFilter:\n",
        "  def __init__(self, path):\n",
        "    # 초기화\n",
        "    self.position = 0\n",
        "    self.datas = []\n",
        "\n",
        "    # txt 파일 데이터 가져오기\n",
        "    with open(path, 'r') as f:\n",
        "      self.words = f.readlines()\n",
        "\n",
        "    # ing로 끝나는 단어 필터링\n",
        "    p = re.compile('\\w+ing')\n",
        "    for word in self.words:\n",
        "      self.datas.extend(p.findall(word))\n",
        "\n",
        "  def __iter__(self):\n",
        "    return self\n",
        "\n",
        "  def __next__(self):\n",
        "    if len(self.datas) <= self.position:\n",
        "      raise StopIteration\n",
        "    result = self.datas[self.position]\n",
        "    self.position += 1\n",
        "    return result\n",
        "\n",
        "if __name__ == '__main__':\n",
        "  answer = WordFilter('./data.txt')\n",
        "  for i in answer:\n",
        "    print(i)"
      ],
      "metadata": {
        "colab": {
          "base_uri": "https://localhost:8080/"
        },
        "id": "uXA8e5sv9aY3",
        "outputId": "8ad78911-37cd-4686-f01c-7620c6e81cc9"
      },
      "execution_count": null,
      "outputs": [
        {
          "output_type": "stream",
          "name": "stdout",
          "text": [
            "testing\n",
            "running\n",
            "jumping\n",
            "Walking\n",
            "swimming\n",
            "shining\n",
            "Enjoying\n",
            "relaxing\n",
            "discussing\n",
            "interesting\n",
            "Coding\n",
            "debugging\n",
            "Traveling\n",
            "hiking\n",
            "fishing\n",
            "whispering\n",
            "something\n",
            "leaving\n"
          ]
        }
      ]
    },
    {
      "cell_type": "code",
      "source": [
        "import re\n",
        "p = re.compile('-[0-9]*')\n",
        "print(p.match('-1'))"
      ],
      "metadata": {
        "colab": {
          "base_uri": "https://localhost:8080/"
        },
        "id": "8SnFsieuUXlu",
        "outputId": "99d77102-ec3c-4fc7-9e69-05ebdc4c390b"
      },
      "execution_count": null,
      "outputs": [
        {
          "output_type": "stream",
          "name": "stdout",
          "text": [
            "<re.Match object; span=(0, 2), match='-1'>\n"
          ]
        }
      ]
    },
    {
      "cell_type": "markdown",
      "source": [
        "###GPT 풀이"
      ],
      "metadata": {
        "id": "W4AB8L2tXC3V"
      }
    },
    {
      "cell_type": "code",
      "source": [
        "import re\n",
        "import tkinter as tk\n",
        "from tkinter import filedialog\n",
        "\n",
        "class WordFilter:\n",
        "    def __init__(self, filepath, pattern=r\"\\b\\w+ing\\b\"):\n",
        "        self.filepath = filepath\n",
        "        self.pattern = pattern\n",
        "\n",
        "    def __iter__(self):\n",
        "        with open(self.filepath, \"r\", encoding=\"utf-8\") as file:\n",
        "            for line in file:\n",
        "                words = re.findall(self.pattern, line)\n",
        "                for word in words:\n",
        "                    yield word\n",
        "\n",
        "def select_file():\n",
        "    filepath = filedialog.askopenfilename()\n",
        "    if not filepath:\n",
        "        return\n",
        "\n",
        "    word_filter = WordFilter(filepath)\n",
        "    result_text.delete(\"1.0\", tk.END)\n",
        "\n",
        "    for word in word_filter:\n",
        "        result_text.insert(tk.END, word + \"\\n\")\n",
        "\n",
        "# GUI\n",
        "root = tk.Tk()\n",
        "root.title(\"단어 필터링\")\n",
        "\n",
        "btn = tk.Button(root, text=\"파일 선택\", command=select_file)\n",
        "btn.pack()\n",
        "\n",
        "result_text = tk.Text(root, height=10, width=50)\n",
        "result_text.pack()\n",
        "\n",
        "root.mainloop()"
      ],
      "metadata": {
        "id": "Bon8AkEKXF8q"
      },
      "execution_count": null,
      "outputs": []
    },
    {
      "cell_type": "markdown",
      "source": [
        "## **프로그래머스: 코딩테스트 연습/ 스택&큐/ 프로세스 제출내역(프린터)**"
      ],
      "metadata": {
        "id": "y3tABloLg4CR"
      }
    },
    {
      "cell_type": "markdown",
      "source": [
        "```\n",
        "운영체제의 역할 중 하나는 컴퓨터 시스템의 자원을 효율적으로 관리하는 것입니다.\n",
        "이 문제에서는 운영체제가 다음 규칙에 따라 프로세스를 관리할 경우 특정 프로세스가 몇 번째로 실행되는지 알아내면 됩니다.\n",
        "\n",
        "1. 실행 대기 큐(Queue)에서 대기중인 프로세스 하나를 꺼냅니다.\n",
        "2. 큐에 대기중인 프로세스 중 우선순위가 더 높은 프로세스가 있다면 방금 꺼낸 프로세스를 다시 큐에 넣습니다.\n",
        "3. 만약 그런 프로세스가 없다면 방금 꺼낸 프로세스를 실행합니다.\n",
        "  3.1 한 번 실행한 프로세스는 다시 큐에 넣지 않고 그대로 종료됩니다.\n",
        "\n",
        "\n",
        "예를 들어 프로세스 4개 [A, B, C, D]가 순서대로 실행 대기 큐에 들어있고, 우선순위가 [2, 1, 3, 2]라면 [C, D, A, B] 순으로 실행하게 됩니다.\n",
        "\n",
        "현재 실행 대기 큐(Queue)에 있는 프로세스의 중요도가 순서대로 담긴 배열 priorities와,\n",
        "몇 번째로 실행되는지 알고싶은 프로세스의 위치를 알려주는 location이 매개변수로 주어질 때,\n",
        "해당 프로세스가 몇 번째로 실행되는지 return 하도록 solution 함수를 작성해주세요.\n",
        "\n",
        "제한사항\n",
        "priorities의 길이는 1 이상 100 이하입니다.\n",
        "priorities의 원소는 1 이상 9 이하의 정수입니다.\n",
        "priorities의 원소는 우선순위를 나타내며 숫자가 클 수록 우선순위가 높습니다.\n",
        "location은 0 이상 (대기 큐에 있는 프로세스 수 - 1) 이하의 값을 가집니다.\n",
        "priorities의 가장 앞에 있으면 0, 두 번째에 있으면 1 … 과 같이 표현합니다.\n",
        "\n",
        "입출력 예\n",
        "priorities\t           location\t         return\n",
        "[2, 1, 3, 2]\t              2\t                1\n",
        "[1, 1, 9, 1, 1, 1]\t      0\t                5\n",
        "\n",
        "\n",
        "입출력 예 설명\n",
        "예제 #1\n",
        "문제에 나온 예와 같습니다.\n",
        "\n",
        "예제 #2\n",
        "6개의 프로세스 [A, B, C, D, E, F]가 대기 큐에 있고 중요도가 [1, 1, 9, 1, 1, 1] 이므로 [C, D, E, F, A, B] 순으로 실행됩니다. 따라서 A는 5번째로 실행됩니다.\n",
        "\n",
        "```\n",
        "<출처: https://school.programmers.co.kr/learn/courses/30/lessons/42587?language=python3>\n"
      ],
      "metadata": {
        "id": "aXHhdt4hF-Qw"
      }
    },
    {
      "cell_type": "markdown",
      "source": [
        "---\n",
        "# 7주차"
      ],
      "metadata": {
        "id": "mOsYmawar-sO"
      }
    },
    {
      "cell_type": "markdown",
      "source": [
        "## **코딩테스트 미로 탈출 문제(DFS, BFS)**\n",
        "입력 조건:\n",
        "- 첫째 줄에 두 정수 N, M(4<=N, M<=200)이 주어집니다. 다음 N개의 줄에는 각각 M개의 정수(0 혹은 1)로 미로의 정보가 주어집니다. 각각의 수들은 공백 없이 붙어서 입력으로 제시됩니다. 또한 시작칸과 마지막 칸은 항상 1입니다.\n",
        "\n",
        "출력 조건:\n",
        "- 첫째 줄에 최소 이동 칸의 개수를 출력합니다.\n",
        "\n",
        "입력 예시:<br>\n",
        "5 6<br>\n",
        "101010<br>\n",
        "111111<br>\n",
        "000001<br>\n",
        "111111<br>\n",
        "111111\n",
        "\n",
        "출력 예시: 10"
      ],
      "metadata": {
        "id": "y8no_twSsHIH"
      }
    },
    {
      "cell_type": "markdown",
      "source": [
        "넘파이 사용\n",
        "\n",
        "랜덤 맵 생성"
      ],
      "metadata": {
        "id": "xPmWTpJtqrrn"
      }
    },
    {
      "cell_type": "code",
      "source": [
        "from collections import deque\n",
        "import numpy as np\n",
        "import matplotlib.pyplot as plt\n",
        "from matplotlib import colors\n",
        "\n",
        "end = [5,6]\n",
        "map_data = np.random.randint(0,2,end)\n",
        "map_data.astype(int)"
      ],
      "metadata": {
        "colab": {
          "base_uri": "https://localhost:8080/"
        },
        "id": "O8wyFWYtUMzA",
        "outputId": "16b23dbb-f69f-4fc9-f77f-a86e6c276564"
      },
      "execution_count": null,
      "outputs": [
        {
          "output_type": "execute_result",
          "data": {
            "text/plain": [
              "array([[1, 1, 0, 0, 0, 1],\n",
              "       [0, 1, 0, 0, 1, 0],\n",
              "       [0, 0, 0, 0, 0, 0],\n",
              "       [1, 1, 1, 1, 0, 0],\n",
              "       [1, 1, 1, 0, 0, 1]])"
            ]
          },
          "metadata": {},
          "execution_count": 22
        }
      ]
    },
    {
      "cell_type": "code",
      "source": [
        "from collections import deque\n",
        "import numpy as np\n",
        "import matplotlib.pyplot as plt\n",
        "from matplotlib import colors\n",
        "\n",
        "class Maze:\n",
        "  def __init__(self):\n",
        "    while True:\n",
        "      try:\n",
        "        self.end = [int(i) for i in input('정수 N, M 입력: ').split()]\n",
        "        if 4 <= self.end[0] <= 200 or 4 <= self.end[1] <= 200:\n",
        "          break\n",
        "        print('정수이며 4 <= N, M <= 200 입니다!')\n",
        "        raise ValueError()\n",
        "\n",
        "      except ValueError:\n",
        "        pass\n",
        "\n",
        "    while True:\n",
        "      try:\n",
        "        self.map_data = []\n",
        "        mode = input('수동 맵: H   랜덤 맵: R   \\n')\n",
        "        if mode == 'H':\n",
        "          for i in range(self.end[0]):\n",
        "            data =input(f'{i}번째 데이터를 입력: ')\n",
        "            if len(data) != self.end[1]:\n",
        "              print(f'입력 길이는 {self.end[1]}여야 합니다!')\n",
        "              raise ValueError()\n",
        "            self.map_data.append([int(i) for i in data])\n",
        "\n",
        "        else:\n",
        "          self.map_data = np.random.randint(0,2,self.end)\n",
        "          self.map_data.astype(int)\n",
        "          self.map_data[0][0] = 1\n",
        "          self.map_data[self.end[0] - 1][self.end[1] - 1] = 1\n",
        "\n",
        "        self.map_path = self.map_data\n",
        "        self.title = 'Map Data'\n",
        "\n",
        "        break\n",
        "\n",
        "      except ValueError:\n",
        "        pass\n",
        "\n",
        "  def DFS(self):\n",
        "    self.stack = []\n",
        "    self.visited = []\n",
        "\n",
        "    self.stack.append([0, 0])\n",
        "    while self.stack:\n",
        "      self.node = self.stack.pop()\n",
        "\n",
        "      # 방문 노드 확인\n",
        "      if self.node in self.visited:\n",
        "        continue\n",
        "\n",
        "      # 방문 리스트에 노드 추가 및 다음 경로 탐색\n",
        "      self.visited.append(self.node)\n",
        "      self.search_node()\n",
        "      self.stack.extend(reversed(self.path_nodes))\n",
        "\n",
        "      self.path_count()\n",
        "\n",
        "    self.title = f'DFS: {self.map_path[self.end[0] - 1][self.end[1] - 1]}'\n",
        "\n",
        "    if [self.end[0] - 1, self.end[1] - 1] in self.visited:\n",
        "      return self.map_path[self.end[0] - 1][self.end[1] - 1]\n",
        "    else:\n",
        "      return -1\n",
        "\n",
        "  def BFS(self):\n",
        "    self.queue = deque()\n",
        "    self.visited = []\n",
        "\n",
        "    self.queue.append([0, 0])\n",
        "    while self.queue:\n",
        "      self.node = self.queue.popleft()\n",
        "\n",
        "      # 방문 노드 확인\n",
        "      if self.node in self.visited:\n",
        "        continue\n",
        "\n",
        "      # 방문 리스트에 노드 추가 및 다음 경로 탐색\n",
        "      self.visited.append(self.node)\n",
        "      self.search_node()\n",
        "      self.queue.extend(self.path_nodes)\n",
        "\n",
        "      self.path_count()\n",
        "\n",
        "    self.title = f'BFS: {self.map_path[self.end[0] - 1][self.end[1] - 1]}'\n",
        "\n",
        "    if [self.end[0] - 1, self.end[1] - 1] in self.visited:\n",
        "      return self.map_path[self.end[0] - 1][self.end[1] - 1]\n",
        "    else:\n",
        "      return -1\n",
        "\n",
        "  def search_node(self):\n",
        "    x, y = self.node\n",
        "    near_nodes = [[x+1, y], [x, y+1], [x-1, y], [x, y-1]]\n",
        "    self.path_nodes = []\n",
        "\n",
        "    if self.node == [self.end[0] - 1, self.end[1] - 1]:\n",
        "      return self.path_nodes\n",
        "\n",
        "    for near_node in near_nodes:\n",
        "      x, y = near_node\n",
        "      xlimit = [-1 , self.end[0]]\n",
        "      ylimit = [-1 , self.end[1]]\n",
        "      if x in xlimit or y in ylimit:\n",
        "        continue\n",
        "      elif self.map_path[x][y] != 0:\n",
        "        self.path_nodes.append(near_node)\n",
        "    return self.path_nodes\n",
        "\n",
        "  def path_count(self):\n",
        "    x, y = self.node\n",
        "    xed, yed = self.end\n",
        "    for path_node in self.path_nodes:\n",
        "        if path_node in self.visited:\n",
        "          continue\n",
        "        elif path_node == [xed - 1, yed - 1]:\n",
        "          if self.map_path[x][y] < self.map_path[xed - 1][yed - 1]:\n",
        "            continue\n",
        "        self.map_path[path_node[0]][path_node[1]] = self.map_path[x][y] + 1\n",
        "    return self.map_path\n",
        "\n",
        "  def NP_DFS(self):\n",
        "    self.stack = []\n",
        "    self.visited = []\n",
        "\n",
        "    x, y = self.end\n",
        "    self.map_path = np.zeros((x+2,y+2))\n",
        "    self.map_path[1:x+1, 1:y+1] = self.map_data\n",
        "\n",
        "    self.stack.append([1, 1])\n",
        "    while self.stack:\n",
        "      self.node = self.stack.pop()\n",
        "\n",
        "      # 방문 노드 확인\n",
        "      if self.node in self.visited:\n",
        "        continue\n",
        "\n",
        "      # 방문 리스트에 노드 추가 및 다음 경로 탐색\n",
        "      self.visited.append(self.node)\n",
        "      self.np_search_node()\n",
        "      self.stack.extend(reversed(self.path_nodes))\n",
        "\n",
        "      self.np_path_count()\n",
        "\n",
        "    self.title = f'DFS: {self.map_path[x, y]}'\n",
        "\n",
        "    self.map_path = self.map_path[1:x+1, 1:y+1]\n",
        "\n",
        "    if self.end in self.visited:\n",
        "      return self.map_path[x - 1, y - 1]\n",
        "    else:\n",
        "      return -1\n",
        "\n",
        "  def NP_BFS(self):\n",
        "    self.queue = deque()\n",
        "    self.visited = []\n",
        "\n",
        "    x, y = self.end\n",
        "    self.map_path = np.zeros((x+2,y+2))\n",
        "    self.map_path[1:x+1, 1:y+1] = self.map_data\n",
        "\n",
        "    self.queue.append([1, 1])\n",
        "    while self.queue:\n",
        "      self.node = self.queue.popleft()\n",
        "\n",
        "      # 방문 노드 확인\n",
        "      if self.node in self.visited:\n",
        "        continue\n",
        "\n",
        "      # 방문 리스트에 노드 추가 및 다음 경로 탐색\n",
        "      self.visited.append(self.node)\n",
        "      self.np_search_node()\n",
        "      self.queue.extend(self.path_nodes)\n",
        "\n",
        "      self.np_path_count()\n",
        "\n",
        "    self.title = f'BFS: {self.map_path[x, y]}'\n",
        "\n",
        "    self.map_path = self.map_path[1:x+1, 1:y+1]\n",
        "\n",
        "    if self.end in self.visited:\n",
        "      return self.map_path[x - 1, y - 1]\n",
        "    else:\n",
        "      return -1\n",
        "\n",
        "  def np_search_node(self):\n",
        "    x, y = self.node\n",
        "    near_nodes = [[x+1, y], [x, y+1], [x-1, y], [x, y-1]]\n",
        "    self.path_nodes = []\n",
        "\n",
        "    if self.node == self.end:\n",
        "      return self.path_nodes\n",
        "\n",
        "    for near_node in near_nodes:\n",
        "      x, y = near_node\n",
        "      if self.map_path[x, y] != 0:\n",
        "        self.path_nodes.append(near_node)\n",
        "    return self.path_nodes\n",
        "\n",
        "  def np_path_count(self):\n",
        "    x, y = self.node\n",
        "    xed, yed = self.end\n",
        "    for path_node in self.path_nodes:\n",
        "        if path_node in self.visited:\n",
        "          continue\n",
        "        elif path_node == self.end:\n",
        "          if self.map_path[x, y] < self.map_path[xed, yed]:\n",
        "            continue\n",
        "        self.map_path[path_node[0], path_node[1]] = self.map_path[x, y] + 1\n",
        "    return self.map_path\n",
        "\n",
        "  def show(self, data, color):\n",
        "    plt.title(self.title)\n",
        "    plt.imshow(data, cmap=color, interpolation='nearest')\n",
        "    plt.show()"
      ],
      "metadata": {
        "id": "JlwjCUkmYisr"
      },
      "execution_count": null,
      "outputs": []
    },
    {
      "cell_type": "markdown",
      "source": [
        "<img width=\"700\" alt=\"image\" src=\"https://wikidocs.net/images/page/141538/set_colormap_00.png\">\n",
        "\n",
        "- gray()\n",
        "- bone()\n",
        "- pink()\n",
        "- spring()\n",
        "- summer()\n",
        "- autumn()\n",
        "- winter()\n",
        "- cool()\n",
        "- hot()\n",
        "- copper()\n",
        "\n",
        "- viridis()\n",
        "- plasma()\n",
        "- inferno()\n",
        "- magma()\n",
        "\n",
        "- flag()\n",
        "- prism()\n",
        "\n",
        "- jet()\n",
        "- nipy_spectral()\n",
        "- hsv()"
      ],
      "metadata": {
        "id": "u3FWW44h1nyk"
      }
    },
    {
      "cell_type": "code",
      "source": [
        "a = Maze()"
      ],
      "metadata": {
        "colab": {
          "base_uri": "https://localhost:8080/"
        },
        "id": "ns66yXd_YrOu",
        "outputId": "fb01a66b-da97-4d66-c15f-893a0b2718cd"
      },
      "execution_count": null,
      "outputs": [
        {
          "name": "stdout",
          "output_type": "stream",
          "text": [
            "정수 N, M 입력: 5 6\n",
            "수동 맵: H   랜덤 맵: R   \n",
            "R\n"
          ]
        }
      ]
    },
    {
      "cell_type": "code",
      "source": [
        "a.show(a.map_data, 'gray')"
      ],
      "metadata": {
        "colab": {
          "base_uri": "https://localhost:8080/",
          "height": 452
        },
        "id": "aRwsuHN2wYgL",
        "outputId": "255a7f56-23a6-4734-a716-d1b135c34588"
      },
      "execution_count": null,
      "outputs": [
        {
          "output_type": "display_data",
          "data": {
            "text/plain": [
              "<Figure size 640x480 with 1 Axes>"
            ],
            "image/png": "[encoded data removed]"
          },
          "metadata": {}
        }
      ]
    },
    {
      "cell_type": "code",
      "source": [
        "print(f'DFS: {a.DFS()}')\n",
        "a.show(a.map_path, 'hot')"
      ],
      "metadata": {
        "colab": {
          "base_uri": "https://localhost:8080/",
          "height": 470
        },
        "id": "myEEusf4xWFv",
        "outputId": "a753ecd1-64e3-44b7-850a-f45430be1e8d"
      },
      "execution_count": null,
      "outputs": [
        {
          "output_type": "stream",
          "name": "stdout",
          "text": [
            "DFS: -1\n"
          ]
        },
        {
          "output_type": "display_data",
          "data": {
            "text/plain": [
              "<Figure size 640x480 with 1 Axes>"
            ],
            "image/png": "[encoded data removed]"
          },
          "metadata": {}
        }
      ]
    },
    {
      "cell_type": "code",
      "source": [
        "print(f'BFS: {a.BFS()}')\n",
        "a.show(a.map_path, 'hot')"
      ],
      "metadata": {
        "colab": {
          "base_uri": "https://localhost:8080/",
          "height": 470
        },
        "id": "bVQFEA2wYrzG",
        "outputId": "7aff2558-73ef-49f7-b4a0-aeee9cea49c7"
      },
      "execution_count": null,
      "outputs": [
        {
          "output_type": "stream",
          "name": "stdout",
          "text": [
            "BFS: -1\n"
          ]
        },
        {
          "output_type": "display_data",
          "data": {
            "text/plain": [
              "<Figure size 640x480 with 1 Axes>"
            ],
            "image/png": "[encoded data removed]"
          },
          "metadata": {}
        }
      ]
    },
    {
      "cell_type": "code",
      "source": [
        "print(f'NP_DFS: {a.NP_DFS()}')\n",
        "a.show(a.map_path, 'hot')"
      ],
      "metadata": {
        "colab": {
          "base_uri": "https://localhost:8080/",
          "height": 470
        },
        "id": "7VE3_7FynjG4",
        "outputId": "5f25b44b-5d81-4b19-eb73-c4adc5a17c58"
      },
      "execution_count": null,
      "outputs": [
        {
          "output_type": "stream",
          "name": "stdout",
          "text": [
            "NP_DFS: -1\n"
          ]
        },
        {
          "output_type": "display_data",
          "data": {
            "text/plain": [
              "<Figure size 640x480 with 1 Axes>"
            ],
            "image/png": "[encoded data removed]"
          },
          "metadata": {}
        }
      ]
    },
    {
      "cell_type": "code",
      "source": [
        "print(f'NP_BFS: {a.NP_BFS()}')\n",
        "a.show(a.map_path, 'hot')"
      ],
      "metadata": {
        "colab": {
          "base_uri": "https://localhost:8080/",
          "height": 470
        },
        "id": "BGIxhw46nkX-",
        "outputId": "1f930fed-e6ae-4578-a5fb-39c2c611fed8"
      },
      "execution_count": null,
      "outputs": [
        {
          "output_type": "stream",
          "name": "stdout",
          "text": [
            "NP_BFS: -1\n"
          ]
        },
        {
          "output_type": "display_data",
          "data": {
            "text/plain": [
              "<Figure size 640x480 with 1 Axes>"
            ],
            "image/png": "[encoded data removed]"
          },
          "metadata": {}
        }
      ]
    }
  ]
}