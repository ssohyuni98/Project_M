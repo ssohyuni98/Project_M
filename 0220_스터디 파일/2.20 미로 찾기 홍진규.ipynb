{
  "nbformat": 4,
  "nbformat_minor": 0,
  "metadata": {
    "colab": {
      "provenance": []
    },
    "kernelspec": {
      "name": "python3",
      "display_name": "Python 3"
    },
    "language_info": {
      "name": "python"
    }
  },
  "cells": [
    {
      "cell_type": "code",
      "execution_count": null,
      "metadata": {
        "id": "iI172xNbfR4E"
      },
      "outputs": [],
      "source": [
        "from collections import deque\n",
        "\n",
        "# N, M을 입력받을 때, 숫자가 아닌 경우 예외 처리\n",
        "while True:\n",
        "    try:\n",
        "        n, m = map(int, input(\"Enter N and M: \").strip().split())\n",
        "        break  # 올바른 입력이면 루프 종료\n",
        "    except ValueError:\n",
        "        print(\"잘못된 입력입니다. 두 개의 정수를 공백으로 구분하여 입력하세요.\")\n",
        "\n",
        "# 2차원 리스트의 맵 정보 입력\n",
        "graph = []\n",
        "for i in range(n):\n",
        "    while True:\n",
        "        try:\n",
        "            row = list(map(int, input().strip()))  # 한 줄씩 입력받아 리스트로 변환\n",
        "            if len(row) != m:  # 입력 길이가 M과 다르면 다시 입력받기\n",
        "                raise ValueError\n",
        "            graph.append(row)\n",
        "            break\n",
        "        except ValueError:\n",
        "            print(f\"잘못된 입력입니다. {m}개의 0과 1을 입력하세요.\")\n",
        "\n",
        "# 이동할 네 방향 정의(상, 하, 좌, 우)\n",
        "dx = [-1, 1, 0, 0]\n",
        "dy = [0, 0, -1, 1]\n",
        "\n",
        "# BFS 소스코드 구현\n",
        "def bfs(x, y):\n",
        "    queue = deque()\n",
        "    queue.append((x, y))\n",
        "\n",
        "    while queue:\n",
        "        x, y = queue.popleft()\n",
        "        for i in range(4):\n",
        "            nx = x + dx[i]\n",
        "            ny = y + dy[i]\n",
        "\n",
        "            if 0 <= nx < n and 0 <= ny < m and graph[nx][ny] == 1:\n",
        "                graph[nx][ny] = graph[x][y] + 1\n",
        "                queue.append((nx, ny))\n",
        "\n",
        "    return graph[n-1][m-1]\n",
        "\n",
        "# BFS 결과 출력\n",
        "print(bfs(0, 0))\n",
        "\n",
        "\n",
        "#예시 코드 출력\n",
        "# Enter N and M: 5 6\n",
        "# 101010\n",
        "# 111111\n",
        "# 000001\n",
        "# 111111\n",
        "# 111111\n"
      ]
    }
  ]
}