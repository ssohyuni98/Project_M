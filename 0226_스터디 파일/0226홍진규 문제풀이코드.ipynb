{
  "nbformat": 4,
  "nbformat_minor": 0,
  "metadata": {
    "colab": {
      "provenance": []
    },
    "kernelspec": {
      "name": "python3",
      "display_name": "Python 3"
    },
    "language_info": {
      "name": "python"
    }
  },
  "cells": [
    {
      "cell_type": "code",
      "execution_count": 1,
      "metadata": {
        "colab": {
          "base_uri": "https://localhost:8080/"
        },
        "id": "Ry2uDHqLPhJn",
        "outputId": "d7c28bf6-1cba-4c34-b88c-51eab5c014c8"
      },
      "outputs": [
        {
          "output_type": "stream",
          "name": "stdout",
          "text": [
            "4\n",
            "5\n",
            "3\n",
            "2\n",
            "1\n",
            "NO\n"
          ]
        }
      ],
      "source": [
        "n = int(input())  # 수열의 개수 입력\n",
        "sequence = [int(input()) for _ in range(n)]  # 목표 수열 입력\n",
        "\n",
        "stack = []\n",
        "result = []\n",
        "current = 1  # 스택에 입력할 숫자\n",
        "possible = True\n",
        "\n",
        "for num in sequence:\n",
        "    while current <= num:  # num에 도달할 때까지 push진행 반복\n",
        "        stack.append(current)\n",
        "        result.append(\"+\")\n",
        "        current += 1\n",
        "\n",
        "    if stack[-1] == num:  # 스택의 top이 현재 숫자와 같으면 pop 출력\n",
        "        stack.pop()\n",
        "        result.append(\"-\")\n",
        "    else:  # 원하는 순서를 만들 수 없는 경우\n",
        "        possible = False\n",
        "        break\n",
        "\n",
        "if possible:\n",
        "    print(\"\\n\".join(result))\n",
        "else:\n",
        "    print(\"NO\")\n"
      ]
    }
  ]
}