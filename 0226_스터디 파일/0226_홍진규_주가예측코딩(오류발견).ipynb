{
  "nbformat": 4,
  "nbformat_minor": 0,
  "metadata": {
    "colab": {
      "provenance": []
    },
    "kernelspec": {
      "name": "python3",
      "display_name": "Python 3"
    },
    "language_info": {
      "name": "python"
    }
  },
  "cells": [
    {
      "cell_type": "code",
      "source": [
        "import numpy as np\n",
        "import pandas as pd\n",
        "import matplotlib.pyplot as plt\n",
        "import yfinance as yf  # 주가 데이터 가져오기\n",
        "from sklearn.preprocessing import MinMaxScaler\n",
        "from tensorflow.keras.models import Sequential\n",
        "from tensorflow.keras.layers import LSTM, Dense, Dropout\n",
        "from tensorflow.keras.optimizers import Adam\n",
        "\n",
        "# 1️ 엔비디아 주가 데이터 가져오기\n",
        "df = yf.download(\"NVDA\", start=\"2024-02-15\", end=\"2025-02-15\")\n",
        "\n",
        "# 'Close' 가격만 사용\n",
        "data = df[['Close']]\n",
        "\n",
        "# 2️ 데이터 정규화 (0~1 사이 값으로 변환)\n",
        "scaler = MinMaxScaler(feature_range=(0,1))\n",
        "data_scaled = scaler.fit_transform(data)\n",
        "\n",
        "# 3️ LSTM 입력 데이터 생성 함수\n",
        "def create_dataset(data, time_step=60):\n",
        "    X, Y = [], []\n",
        "    for i in range(len(data) - time_step):\n",
        "        X.append(data[i:(i+time_step), 0])  # 과거 60일 데이터\n",
        "        Y.append(data[i+time_step, 0])      # 다음 날 예측값\n",
        "    return np.array(X), np.array(Y)\n",
        "\n",
        "# 4️ 데이터 변환 (60일 단위 입력)\n",
        "time_step = 60\n",
        "X, Y = create_dataset(data_scaled, time_step)\n",
        "\n",
        "# LSTM 입력 형태로 변환\n",
        "X = X.reshape(X.shape[0], X.shape[1], 1)\n",
        "\n",
        "# 5️ 학습/테스트 데이터 분리\n",
        "split = int(len(X) * 0.8)\n",
        "X_train, Y_train = X[:split], Y[:split]\n",
        "X_test, Y_test = X[split:], Y[split:]\n",
        "\n",
        "# 6️ LSTM 모델 구축\n",
        "model = Sequential([\n",
        "    LSTM(units=50, return_sequences=True, input_shape=(time_step, 1)),\n",
        "    Dropout(0.2),\n",
        "    LSTM(units=50, return_sequences=False),\n",
        "    Dropout(0.2),\n",
        "    Dense(units=25),\n",
        "    Dense(units=1)\n",
        "])\n",
        "\n",
        "# 모델 컴파일\n",
        "model.compile(optimizer=Adam(learning_rate=0.001), loss='mean_squared_error')\n",
        "\n",
        "# 7️ 모델 학습\n",
        "history = model.fit(X_train, Y_train, epochs=50, batch_size=16, validation_data=(X_test, Y_test), verbose=1)\n",
        "\n",
        "# 8️ 예측 수행\n",
        "predicted_price = model.predict(X_test)\n",
        "\n",
        "# 정규화 역변환 (실제 가격으로 변환)\n",
        "predicted_price = scaler.inverse_transform(predicted_price.reshape(-1, 1))\n",
        "actual_price = scaler.inverse_transform(Y_test.reshape(-1, 1))\n",
        "\n",
        "# 9️ 예측 결과 시각화\n",
        "plt.figure(figsize=(10,5))\n",
        "plt.plot(actual_price, label=\"Real Price\", color=\"blue\")\n",
        "plt.plot(predicted_price, label=\"Predicted Price\", color=\"red\")\n",
        "plt.legend()\n",
        "plt.title(\"NVIDIA Stock Price Prediction (LSTM)\")\n",
        "plt.show()\n"
      ],
      "metadata": {
        "id": "bqq_pfJZRYL3"
      },
      "execution_count": null,
      "outputs": []
    }
  ]
}