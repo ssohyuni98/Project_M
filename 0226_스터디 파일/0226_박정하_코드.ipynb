{
  "nbformat": 4,
  "nbformat_minor": 0,
  "metadata": {
    "colab": {
      "provenance": []
    },
    "kernelspec": {
      "name": "python3",
      "display_name": "Python 3"
    },
    "language_info": {
      "name": "python"
    }
  },
  "cells": [
    {
      "cell_type": "markdown",
      "source": [
        "##코딩테스트 [스택수열] 코드"
      ],
      "metadata": {
        "id": "OUsWDsvKL14Q"
      }
    },
    {
      "cell_type": "markdown",
      "source": [
        "sys 모듈을 사용해 데이터를 입력받기 때문에 .py파일에서 구동해야 정상적으로 작동합니다."
      ],
      "metadata": {
        "id": "7NRM8HxYMFTj"
      }
    },
    {
      "cell_type": "code",
      "source": [
        "from collections import deque\n",
        "import sys\n",
        "\n",
        "a = int(sys.stdin.readline())\n",
        "num_list = deque()\n",
        "for i in range(a):\n",
        "    num_list.append(int(sys.stdin.readline()))\n",
        "card_list = deque(range(1,a+1))\n",
        "\n",
        "def check(a,num_list):\n",
        "    card_list = deque(range(1,a+1))\n",
        "    ans_list = deque()\n",
        "    stack = deque()\n",
        "    check_list = deque()\n",
        "\n",
        "    for i in range(a):  #카드 숫자만큼 실행\n",
        "        if not stack:\n",
        "            stack.append(card_list.popleft())\n",
        "            ans_list.append(\"+\")\n",
        "        target = num_list[i]   #타겟은은 i번째 수\n",
        "        # print(i,\"-----\",stack,\"----target\", target)\n",
        "        if stack[-1] <= target:  # 타겟보다 스택 젤 뒤에가 크면\n",
        "            while stack[-1] != target:\n",
        "                stack.append(card_list.popleft())\n",
        "                ans_list.append(\"+\")\n",
        "            check_list.append(stack.pop())\n",
        "            ans_list.append(\"-\")\n",
        "        elif stack[-1] >= target:\n",
        "            while stack[-1] == target:\n",
        "                check_list.append(stack.pop())\n",
        "                ans_list.append(\"-\")\n",
        "    if len(check_list) != a:\n",
        "        # print(\"NONONOo\")\n",
        "        return \"NO\"\n",
        "    else:\n",
        "        return list(ans_list)\n",
        "\n",
        "\n",
        "an = check(a, num_list)\n",
        "if an == \"NO\":\n",
        "    print(\"NO\")\n",
        "else:\n",
        "    for i in range(len(an)):\n",
        "        print(an[i])\n",
        ""
      ],
      "metadata": {
        "id": "slDvM_XZMAFk"
      },
      "execution_count": null,
      "outputs": []
    },
    {
      "cell_type": "markdown",
      "source": [
        "## LSTM 주가예측 프로그램"
      ],
      "metadata": {
        "id": "kkgynPGdMBVt"
      }
    },
    {
      "cell_type": "code",
      "execution_count": 48,
      "metadata": {
        "colab": {
          "base_uri": "https://localhost:8080/"
        },
        "id": "97eqRU_o4KTQ",
        "outputId": "249c4420-e82f-43b9-bb61-80f8073f9bb2"
      },
      "outputs": [
        {
          "output_type": "stream",
          "name": "stderr",
          "text": [
            "\r[*********************100%***********************]  1 of 1 completed"
          ]
        },
        {
          "output_type": "stream",
          "name": "stdout",
          "text": [
            "----------------------------------------\n",
            "----------------------------------------\n",
            "Price            Close\n",
            "Ticker            TSLA\n",
            "Date                  \n",
            "2023-02-27  207.630005\n",
            "2023-02-28  205.710007\n",
            "2023-03-01  202.770004\n",
            "2023-03-02  190.899994\n",
            "2023-03-03  197.789993\n",
            "----------------------------------------\n",
            "(250, 1)\n",
            "----------------------------------------\n",
            " Max : Price  Ticker\n",
            "Close  TSLA      293.339996\n",
            "dtype: float64\n",
            "----------------------------------------\n",
            " Min : Price  Ticker\n",
            "Close  TSLA      153.75\n",
            "dtype: float64\n"
          ]
        },
        {
          "output_type": "stream",
          "name": "stderr",
          "text": [
            "\n"
          ]
        }
      ],
      "source": [
        "import yfinance as yf\n",
        "import pandas as pd\n",
        "import numpy as np\n",
        "ticker = \"TSLA\"\n",
        "start_date = \"2023-02-25\"\n",
        "end_date = \"2024-02-25\"\n",
        "\n",
        "data = yf.download(ticker, start=start_date, end=end_date)\n",
        "print(\"-\"*40)\n",
        "data = data[['Close']]  #종가 선정\n",
        "print(\"-\"*40)\n",
        "print(data.head())\n",
        "print(\"-\"*40)\n",
        "print(data.shape)\n",
        "print(\"-\"*40)\n",
        "print(f' Max : {data.max()}')\n",
        "print(\"-\"*40)\n",
        "print(f' Min : {data.min()}')"
      ]
    },
    {
      "cell_type": "code",
      "source": [
        "from sklearn.preprocessing import MinMaxScaler\n",
        "scaler = MinMaxScaler(feature_range=(0, 1))\n",
        "data_scaled = scaler.fit_transform(data)\n",
        "print(data_scaled[:5])\n",
        "print(\"-\"*40)\n",
        "print(f'Max : {data_scaled.max()}')\n",
        "print(\"-\"*40)\n",
        "print(f'Min : {data_scaled.min()}')"
      ],
      "metadata": {
        "colab": {
          "base_uri": "https://localhost:8080/"
        },
        "id": "NgH8V0J64Oox",
        "outputId": "1b5b5cdb-8599-4302-dac1-eea991d781f3"
      },
      "execution_count": 49,
      "outputs": [
        {
          "output_type": "stream",
          "name": "stdout",
          "text": [
            "[[0.38598758]\n",
            " [0.37223303]\n",
            " [0.35117133]\n",
            " [0.26613651]\n",
            " [0.31549534]]\n",
            "----------------------------------------\n",
            "Max : 1.0\n",
            "----------------------------------------\n",
            "Min : 0.0\n"
          ]
        }
      ]
    },
    {
      "cell_type": "code",
      "source": [
        "def create_sequences(data, seq_length):\n",
        "    X, y = [], []\n",
        "    for i in range(len(data) - seq_length):\n",
        "        X.append(data[i:i+seq_length])\n",
        "        y.append(data[i+seq_length])\n",
        "        # print(i)\n",
        "    return np.array(X), np.array(y)\n",
        "#sep_length는 과거 몇일치에 대한 데이터로 다음 날 주가를 예측할지 결정\n",
        "seq_length = 60  #60일치를 이용해 주가 예측\n",
        "X, y = create_sequences(data_scaled, seq_length)\n",
        "print(X.shape)\n",
        "print(y.shape)"
      ],
      "metadata": {
        "colab": {
          "base_uri": "https://localhost:8080/"
        },
        "id": "qLnFZdHlCjZ7",
        "outputId": "d935a905-237e-4ab5-bee7-e7eba7477ffa"
      },
      "execution_count": 50,
      "outputs": [
        {
          "output_type": "stream",
          "name": "stdout",
          "text": [
            "(190, 60, 1)\n",
            "(190, 1)\n"
          ]
        }
      ]
    },
    {
      "cell_type": "code",
      "source": [
        "split = int(len(X) * 0.8)\n",
        "X_train, X_test = X[:split], X[split:]\n",
        "y_train, y_test = y[:split], y[split:]\n",
        "print(X_train.shape)\n",
        "print(X_test.shape)\n",
        "print(y_train.shape)\n",
        "print(X_test.shape)"
      ],
      "metadata": {
        "colab": {
          "base_uri": "https://localhost:8080/"
        },
        "id": "_Z9hRTUVDHFI",
        "outputId": "63740362-1b85-4efb-b65f-71506923d1f2"
      },
      "execution_count": 51,
      "outputs": [
        {
          "output_type": "stream",
          "name": "stdout",
          "text": [
            "(152, 60, 1)\n",
            "(38, 60, 1)\n",
            "(152, 1)\n",
            "(38, 60, 1)\n"
          ]
        }
      ]
    }
  ]
}