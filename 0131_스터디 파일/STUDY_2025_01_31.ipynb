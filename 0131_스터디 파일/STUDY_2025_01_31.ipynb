{
  "nbformat": 4,
  "nbformat_minor": 0,
  "metadata": {
    "colab": {
      "provenance": []
    },
    "kernelspec": {
      "name": "python3",
      "display_name": "Python 3"
    },
    "language_info": {
      "name": "python"
    }
  },
  "cells": [
    {
      "cell_type": "code",
      "execution_count": null,
      "metadata": {
        "id": "k0xQ23KHuTZK"
      },
      "outputs": [],
      "source": [
        "# Bubble\n",
        "\n",
        "N = int(input())\n",
        "A = [0 for _ in range(N)]\n",
        "\n",
        "for i in range(N):\n",
        "    A[i] = int(input())\n",
        "\n",
        "for i in range(N):\n",
        "    for j in range(N-1-i):\n",
        "        if A[j] > A[j+1]:\n",
        "            A[j], A[j+1] = A[j+1], A[j]\n",
        "\n",
        "for i in range(N):\n",
        "    print(A[i])"
      ]
    },
    {
      "cell_type": "code",
      "source": [
        "# Selection\n",
        "\n",
        "A = list(input())\n",
        "A = list(map(int,A))\n",
        "for i in range(len(A)):\n",
        "    Max = i\n",
        "    for j in range(i+1, len(A)):\n",
        "        if A[j] > A[Max]:\n",
        "            Max = j\n",
        "    if A[i] < A[Max]:\n",
        "        A[i], A[Max] = A[Max], A[i]\n",
        "\n",
        "for i in range(len(A)):\n",
        "    print(A[i])"
      ],
      "metadata": {
        "colab": {
          "base_uri": "https://localhost:8080/"
        },
        "id": "6C5zg8AMxhNn",
        "outputId": "0a30864b-e4b3-4f56-bad2-2b8bd7bca79e"
      },
      "execution_count": 1,
      "outputs": [
        {
          "output_type": "stream",
          "name": "stdout",
          "text": [
            "2143\n",
            "4\n",
            "3\n",
            "2\n",
            "1\n"
          ]
        }
      ]
    },
    {
      "cell_type": "code",
      "source": [
        "# Insert\n",
        "\n",
        "N = int(input())\n",
        "A = list(map(int, input().split()))\n",
        "S = [0 for _ in range(N)]\n",
        "\n",
        "for i in range(1,N):\n",
        "    insert_point = i\n",
        "    insert_value = A[i]\n",
        "\n",
        "    for j in range(i-1, -1, -1):\n",
        "        if A[j] < A[i]:\n",
        "            insert_point = j + 1\n",
        "            break\n",
        "        if j == 0:\n",
        "            insert_point = 0\n",
        "    for j in range(i, insert_point, -1):\n",
        "        A[j] = A[j-1]\n",
        "    A[insert_point] = insert_value\n",
        "\n",
        "S[0] = A[0]\n",
        "\n",
        "for i in range(1,N):\n",
        "    S[i] = S[i-1] + A[i]\n",
        "\n",
        "sum = 0\n",
        "\n",
        "for i in range(N):\n",
        "    sum+=S[i]\n",
        "\n",
        "print(sum)"
      ],
      "metadata": {
        "colab": {
          "base_uri": "https://localhost:8080/"
        },
        "id": "rX3Sc-tv0nR4",
        "outputId": "09ae5834-aa4e-45d4-98d6-7228819076aa"
      },
      "execution_count": 2,
      "outputs": [
        {
          "output_type": "stream",
          "name": "stdout",
          "text": [
            "5\n",
            "3 1 4 3 2\n",
            "32\n"
          ]
        }
      ]
    },
    {
      "cell_type": "code",
      "source": [],
      "metadata": {
        "id": "akw0vOJ--Kd3"
      },
      "execution_count": null,
      "outputs": []
    }
  ]
}