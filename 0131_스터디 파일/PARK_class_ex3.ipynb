{
 "cells": [
  {
   "cell_type": "code",
   "execution_count": 2,
   "metadata": {},
   "outputs": [],
   "source": [
    "class Menu:   #Menu 클래스 생성\n",
    "    def __init__(self,name,price,stock):  # 메뉴 이름, 가격, 재고를 인수로 받는다.\n",
    "        self.name = name\n",
    "        self.price = price\n",
    "        self.stock = stock\n",
    "\n",
    "    def reduce_stock(self, amount):    #재고 차감 함수\n",
    "        self.stock -= amount\n",
    "        \n",
    "    def increase_stock(self, amount):   #재고 추가 함수\n",
    "        self.stock += amount\n",
    "\n",
    "class Order:    # Order 클래스 생성\n",
    "    def __init__(self, name, phone_no, order_no, menu_dict):   #주문자 이름, 핸드폰번호, 주문번호, 메뉴판 을 인수로 받는다.\n",
    "        self.name = name\n",
    "        self.phone_no = phone_no\n",
    "        self.order_no = order_no\n",
    "        self.order_list = {}    # 장바구니 역할을 하는 빈 딕셔너리를 생성해준다.\n",
    "        self.menu_dict = menu_dict\n",
    "\n",
    "    def add_item(self, item, quantity):  #장바구니에 메뉴를 추가하는 함수 생성\n",
    "        if item not in self.menu_dict:  # 메뉴 항목에 없으면 주문 불가능\n",
    "            print(\"메뉴에 없는 음식입니다.\")\n",
    "            return\n",
    "        menu_item = self.menu_dict[item]  #  메뉴 딕셔너리는 key로 메뉴 이름, 그리고 value로는 메뉴 객체를 가진다.\n",
    "        if menu_item.stock < quantity:    # 위의 코드에서 key가 item인 객체를 가져온 것이고, 접근연산자를 이용해 재고(stock)에 접근\n",
    "            print(f\"재고가 부족합니다.\\t현재 재고:{menu_item.stock}\")  #재고가 주문수량보다 적을 경우 패스\n",
    "            return\n",
    "                 \n",
    "        menu_item.reduce_stock(quantity)  # 위의 조건문을 모두 만족하면 주문 수량만큼 재고 감소\n",
    "        if item in self.order_list: \n",
    "            print(f\"{item} {quantity}개 주문에 추가\")\n",
    "            self.order_list[item] += quantity   #이미 있는 항목이면 개수 추가 형태는 딕셔너리\n",
    "        else:\n",
    "            self.order_list[item] = quantity  #첫 항목이면 신규 생성\n",
    "            print(f\"{item} {quantity}개 주문에 추가\")\n",
    "\n",
    "    def print_recipt(self):  # 주문 영수증을 출력하는 함수\n",
    "        total_price=0\n",
    "        print(\"---------------Total Recipt---------------\")\n",
    "        for i, j in self.order_list.items():\n",
    "            menu_item = self.menu_dict[i]  #위와 동일하게 Menu객체 호출\n",
    "            print(f\"{i}\\t개당{menu_item.price}원\\t{j}개\\t총 {menu_item.price*j}원\")\n",
    "            total_price += menu_item.price*j\n",
    "        print(f\"------------총 결제 금액 : {total_price}---------\")\n",
    "        print(\"------------------------------------------\")\n",
    "        print(f\"주문자:{self.name}\\t전화번호:{self.phone_no}\\n주문번호:{self.order_no}\")\n",
    "\n",
    "    def print_stock(self):\n",
    "        print(\"------재고 현황------\")\n",
    "        for i, j in self.order_list.items():\n",
    "            menu_item = self.menu_dict[i]\n",
    "            print(f'{i}: {menu_item.stock}')"
   ]
  },
  {
   "cell_type": "code",
   "execution_count": 5,
   "metadata": {},
   "outputs": [
    {
     "name": "stdout",
     "output_type": "stream",
     "text": [
      "8000\n"
     ]
    }
   ],
   "source": [
    "치킨 = Menu(\"치킨\",15000,10)\n",
    "피자 = Menu(\"피자\",25000,5)\n",
    "햄버거 = Menu(\"햄버거\",8000, 15)\n",
    "menu_dict = {치킨.name:치킨, 피자.name:피자, 햄버거.name:햄버거}\n",
    "print(menu_dict['햄버거'].price)"
   ]
  },
  {
   "cell_type": "code",
   "execution_count": 6,
   "metadata": {},
   "outputs": [
    {
     "name": "stdout",
     "output_type": "stream",
     "text": [
      "메뉴에 없는 음식입니다.\n",
      "재고가 부족합니다.\t현재 재고:5\n",
      "치킨 5개 주문에 추가\n",
      "햄버거 3개 주문에 추가\n",
      "피자 1개 주문에 추가\n"
     ]
    }
   ],
   "source": [
    "주문1 = Order(\"홍길동\",\"010-1234-1234\", \"AA-0001\", menu_dict)\n",
    "주문1.add_item(\"스파게티\",2)\n",
    "주문1.add_item(\"피자\",6)\n",
    "주문1.add_item('치킨',5)\n",
    "주문1.add_item('햄버거',3)\n",
    "주문1.add_item('피자',1)"
   ]
  },
  {
   "cell_type": "code",
   "execution_count": 7,
   "metadata": {},
   "outputs": [
    {
     "name": "stdout",
     "output_type": "stream",
     "text": [
      "---------------Total Recipt---------------\n",
      "치킨\t개당15000원\t5개\t총 75000원\n",
      "햄버거\t개당8000원\t3개\t총 24000원\n",
      "피자\t개당25000원\t1개\t총 25000원\n",
      "------------총 결제 금액 : 124000---------\n",
      "------------------------------------------\n",
      "주문자:홍길동\t전화번호:010-1234-1234\n",
      "주문번호:AA-0001\n"
     ]
    }
   ],
   "source": [
    "주문1.print_recipt()"
   ]
  },
  {
   "cell_type": "code",
   "execution_count": 8,
   "metadata": {},
   "outputs": [
    {
     "name": "stdout",
     "output_type": "stream",
     "text": [
      "------재고 현황------\n",
      "치킨: 5\n",
      "햄버거: 12\n",
      "피자: 4\n"
     ]
    }
   ],
   "source": [
    "주문1.print_stock()"
   ]
  }
 ],
 "metadata": {
  "kernelspec": {
   "display_name": "PARK",
   "language": "python",
   "name": "python3"
  },
  "language_info": {
   "codemirror_mode": {
    "name": "ipython",
    "version": 3
   },
   "file_extension": ".py",
   "mimetype": "text/x-python",
   "name": "python",
   "nbconvert_exporter": "python",
   "pygments_lexer": "ipython3",
   "version": "3.13.1"
  }
 },
 "nbformat": 4,
 "nbformat_minor": 2
}
