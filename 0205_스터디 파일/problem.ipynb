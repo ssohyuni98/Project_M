{
  "nbformat": 4,
  "nbformat_minor": 0,
  "metadata": {
    "colab": {
      "provenance": [],
      "collapsed_sections": [
        "eax3O_gsdN8p",
        "EpdcxynW9m1T",
        "9TQj0fI88fNe",
        "eVDxBk8z9fRw",
        "W4AB8L2tXC3V"
      ]
    },
    "kernelspec": {
      "name": "python3",
      "display_name": "Python 3"
    },
    "language_info": {
      "name": "python"
    }
  },
  "cells": [
    {
      "cell_type": "markdown",
      "source": [
        "#Class 오버라이딩\n",
        "아래의 클래스를 상속받는 Dog 클래스를 생성하고, speak 메서드를 오버라이딩하여 Dog 클래스의 인스턴스가 Woof! 를 반환하도록 작성하시오."
      ],
      "metadata": {
        "id": "eax3O_gsdN8p"
      }
    },
    {
      "cell_type": "markdown",
      "source": [
        "##풀이"
      ],
      "metadata": {
        "id": "EpdcxynW9m1T"
      }
    },
    {
      "cell_type": "code",
      "source": [
        "class Animal:\n",
        "    def speak(self):\n",
        "        return \"Animal speaks\"\n",
        "\n",
        "class Dog(Animal):\n",
        "    def speak(self):\n",
        "        return 'Woof!'\n",
        "\n",
        "dog = Dog()\n",
        "print(dog.speak())"
      ],
      "metadata": {
        "id": "X7Tppgh9cl8T"
      },
      "execution_count": null,
      "outputs": []
    },
    {
      "cell_type": "markdown",
      "source": [
        "#**정규표현식과 이터레이터를 활용한 단어 필터링<br>**\n",
        "문제: 텍스트 파일을 읽어 특정 패턴(예: ing로 끝나는 단어)을 찾고, 이를 이터레이터를 사용하여 한 줄씩 반환하는 프로그램을 작성하시오.\n",
        "\n",
        "* 클래스 WordFilter를 작성하여 __iter__()를 구현하고 이터레이터를 활용\n",
        "* re 모듈을 이용하여 정규표현식으로 단어 필터링"
      ],
      "metadata": {
        "id": "9TQj0fI88fNe"
      }
    },
    {
      "cell_type": "code",
      "source": [
        "with open('./data.txt', 'w') as f:\n",
        "    data = '''This is a simple testing file.\n",
        "We are running and jumping in the park.\n",
        "Walking and swimming are great exercises.\n",
        "The weather is shining brightly today.\n",
        "Enjoying a good book is relaxing.\n",
        "They are discussing an interesting topic.\n",
        "Coding and debugging are essential skills for developers.\n",
        "Traveling around the world is a dream for many.\n",
        "Some people prefer hiking while others enjoy fishing.\n",
        "He was whispering something before leaving the room.'''\n",
        "    f.write(data)"
      ],
      "metadata": {
        "id": "4y5M-Jd0V4I1"
      },
      "execution_count": null,
      "outputs": []
    },
    {
      "cell_type": "markdown",
      "source": [
        "##풀이"
      ],
      "metadata": {
        "id": "eVDxBk8z9fRw"
      }
    },
    {
      "cell_type": "code",
      "source": [
        "import re\n",
        "\n",
        "class WordFilter:\n",
        "  def __init__(self, path):\n",
        "    # 초기화\n",
        "    self.position = 0\n",
        "    self.datas = []\n",
        "\n",
        "    # txt 파일 데이터 가져오기\n",
        "    with open(path, 'r') as f:\n",
        "      self.words = f.readlines()\n",
        "\n",
        "    # ing로 끝나는 단어 필터링\n",
        "    p = re.compile('\\w+ing')\n",
        "    for word in self.words:\n",
        "      self.datas.extend(p.findall(word))\n",
        "\n",
        "  def __iter__(self):\n",
        "    return self\n",
        "\n",
        "  def __next__(self):\n",
        "    if len(self.datas) <= self.position:\n",
        "      raise StopIteration\n",
        "    result = self.datas[self.position]\n",
        "    self.position += 1\n",
        "    return result\n",
        "\n",
        "if __name__ == '__main__':\n",
        "  answer = WordFilter('./data.txt')\n",
        "  for i in answer:\n",
        "    print(i)"
      ],
      "metadata": {
        "colab": {
          "base_uri": "https://localhost:8080/"
        },
        "id": "uXA8e5sv9aY3",
        "outputId": "8ad78911-37cd-4686-f01c-7620c6e81cc9"
      },
      "execution_count": null,
      "outputs": [
        {
          "output_type": "stream",
          "name": "stdout",
          "text": [
            "testing\n",
            "running\n",
            "jumping\n",
            "Walking\n",
            "swimming\n",
            "shining\n",
            "Enjoying\n",
            "relaxing\n",
            "discussing\n",
            "interesting\n",
            "Coding\n",
            "debugging\n",
            "Traveling\n",
            "hiking\n",
            "fishing\n",
            "whispering\n",
            "something\n",
            "leaving\n"
          ]
        }
      ]
    },
    {
      "cell_type": "code",
      "source": [
        "import re\n",
        "p = re.compile('-[0-9]*')\n",
        "print(p.match('-1'))"
      ],
      "metadata": {
        "colab": {
          "base_uri": "https://localhost:8080/"
        },
        "id": "8SnFsieuUXlu",
        "outputId": "99d77102-ec3c-4fc7-9e69-05ebdc4c390b"
      },
      "execution_count": 21,
      "outputs": [
        {
          "output_type": "stream",
          "name": "stdout",
          "text": [
            "<re.Match object; span=(0, 2), match='-1'>\n"
          ]
        }
      ]
    },
    {
      "cell_type": "markdown",
      "source": [
        "###GPT 풀이"
      ],
      "metadata": {
        "id": "W4AB8L2tXC3V"
      }
    },
    {
      "cell_type": "code",
      "source": [
        "import re\n",
        "import tkinter as tk\n",
        "from tkinter import filedialog\n",
        "\n",
        "class WordFilter:\n",
        "    def __init__(self, filepath, pattern=r\"\\b\\w+ing\\b\"):\n",
        "        self.filepath = filepath\n",
        "        self.pattern = pattern\n",
        "\n",
        "    def __iter__(self):\n",
        "        with open(self.filepath, \"r\", encoding=\"utf-8\") as file:\n",
        "            for line in file:\n",
        "                words = re.findall(self.pattern, line)\n",
        "                for word in words:\n",
        "                    yield word\n",
        "\n",
        "def select_file():\n",
        "    filepath = filedialog.askopenfilename()\n",
        "    if not filepath:\n",
        "        return\n",
        "\n",
        "    word_filter = WordFilter(filepath)\n",
        "    result_text.delete(\"1.0\", tk.END)\n",
        "\n",
        "    for word in word_filter:\n",
        "        result_text.insert(tk.END, word + \"\\n\")\n",
        "\n",
        "# GUI\n",
        "root = tk.Tk()\n",
        "root.title(\"단어 필터링\")\n",
        "\n",
        "btn = tk.Button(root, text=\"파일 선택\", command=select_file)\n",
        "btn.pack()\n",
        "\n",
        "result_text = tk.Text(root, height=10, width=50)\n",
        "result_text.pack()\n",
        "\n",
        "root.mainloop()"
      ],
      "metadata": {
        "id": "Bon8AkEKXF8q"
      },
      "execution_count": null,
      "outputs": []
    },
    {
      "cell_type": "markdown",
      "source": [
        "#**프로그래머스: 코딩테스트 연습/ 스택&큐/ 프로세스 제출내역(프린터)**"
      ],
      "metadata": {
        "id": "y3tABloLg4CR"
      }
    },
    {
      "cell_type": "markdown",
      "source": [
        "```\n",
        "운영체제의 역할 중 하나는 컴퓨터 시스템의 자원을 효율적으로 관리하는 것입니다.\n",
        "이 문제에서는 운영체제가 다음 규칙에 따라 프로세스를 관리할 경우 특정 프로세스가 몇 번째로 실행되는지 알아내면 됩니다.\n",
        "\n",
        "1. 실행 대기 큐(Queue)에서 대기중인 프로세스 하나를 꺼냅니다.\n",
        "2. 큐에 대기중인 프로세스 중 우선순위가 더 높은 프로세스가 있다면 방금 꺼낸 프로세스를 다시 큐에 넣습니다.\n",
        "3. 만약 그런 프로세스가 없다면 방금 꺼낸 프로세스를 실행합니다.\n",
        "  3.1 한 번 실행한 프로세스는 다시 큐에 넣지 않고 그대로 종료됩니다.\n",
        "\n",
        "\n",
        "예를 들어 프로세스 4개 [A, B, C, D]가 순서대로 실행 대기 큐에 들어있고, 우선순위가 [2, 1, 3, 2]라면 [C, D, A, B] 순으로 실행하게 됩니다.\n",
        "\n",
        "현재 실행 대기 큐(Queue)에 있는 프로세스의 중요도가 순서대로 담긴 배열 priorities와,\n",
        "몇 번째로 실행되는지 알고싶은 프로세스의 위치를 알려주는 location이 매개변수로 주어질 때,\n",
        "해당 프로세스가 몇 번째로 실행되는지 return 하도록 solution 함수를 작성해주세요.\n",
        "\n",
        "제한사항\n",
        "priorities의 길이는 1 이상 100 이하입니다.\n",
        "priorities의 원소는 1 이상 9 이하의 정수입니다.\n",
        "priorities의 원소는 우선순위를 나타내며 숫자가 클 수록 우선순위가 높습니다.\n",
        "location은 0 이상 (대기 큐에 있는 프로세스 수 - 1) 이하의 값을 가집니다.\n",
        "priorities의 가장 앞에 있으면 0, 두 번째에 있으면 1 … 과 같이 표현합니다.\n",
        "\n",
        "입출력 예\n",
        "priorities\t           location\t         return\n",
        "[2, 1, 3, 2]\t              2\t                1\n",
        "[1, 1, 9, 1, 1, 1]\t      0\t                5\n",
        "\n",
        "\n",
        "입출력 예 설명\n",
        "예제 #1\n",
        "문제에 나온 예와 같습니다.\n",
        "\n",
        "예제 #2\n",
        "6개의 프로세스 [A, B, C, D, E, F]가 대기 큐에 있고 중요도가 [1, 1, 9, 1, 1, 1] 이므로 [C, D, E, F, A, B] 순으로 실행됩니다. 따라서 A는 5번째로 실행됩니다.\n",
        "\n",
        "```\n",
        "<출처: https://school.programmers.co.kr/learn/courses/30/lessons/42587?language=python3>\n"
      ],
      "metadata": {
        "id": "aXHhdt4hF-Qw"
      }
    }
  ]
}