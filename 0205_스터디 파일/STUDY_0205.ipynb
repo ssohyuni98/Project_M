{
  "nbformat": 4,
  "nbformat_minor": 0,
  "metadata": {
    "colab": {
      "provenance": []
    },
    "kernelspec": {
      "name": "python3",
      "display_name": "Python 3"
    },
    "language_info": {
      "name": "python"
    }
  },
  "cells": [
    {
      "cell_type": "code",
      "execution_count": null,
      "metadata": {
        "id": "3HPmuFYwOeRP"
      },
      "outputs": [],
      "source": [
        "# 백준 11004\n",
        "N, K = map(int, input().split()) # 5 2\n",
        "A = list(map(int,input().split())) # 4 1 2 3 5\n",
        "\n",
        "def quickSort(S, E, K): # 0 / 5-1 / 2-1\n",
        "    global A\n",
        "    if S < E: # 0 < 4\n",
        "        pivot = partition(S,E) # partition (0, 4)\n",
        "\n",
        "\n",
        "        if pivot == K:\n",
        "            return\n",
        "        elif K < pivot:\n",
        "            quickSort(S,pivot - 1, K)\n",
        "        else:\n",
        "            quickSort(pivot + 1, E, K)\n",
        "\n",
        "def swap(i,j): # Swaping 이해 완료\n",
        "    global A\n",
        "\n",
        "    temp = A[i]\n",
        "    A[i] = A[j]\n",
        "    A[j] = temp\n",
        "\n",
        "def partition(S,E): # 0 4\n",
        "    global A # 4 1 2 3 5\n",
        "\n",
        "    if S + 1 == E: # partition을 했을 때, 원소 2개짜리 했을 경우, 정렬 후 큰값의 인덱스를 pivot으로 return\n",
        "        if A[S] > A[E]:\n",
        "            swap(S,E)\n",
        "        return E\n",
        "\n",
        "###########################################################################\n",
        "    M = (S + E) // 2 # 중간값 찾기 ################# index 2 -> 2\n",
        "    swap(S, M) # two pointer 이동을 원활히 하기 위해, pivot 위치 이동 2 // 1 4 3 5\n",
        "    pivot = A[S] # index 0 -> pivot 2 if 2 // 4 1 3 5 2 // 1 4 3 5\n",
        "    i = S + 1 # index 1\n",
        "    j = E # index 4\n",
        "\n",
        "    while i <= j: # 1 <= 4\n",
        "        while pivot < A[j] and j > 0:\n",
        "            j -= 1 #  j = 1\n",
        "        while pivot > A[i] and i < len(A) -1:\n",
        "            i += 1 # i = 2\n",
        "        if i <= j: # i = 2, j = 1\n",
        "            swap(i,j)\n",
        "            i += 1\n",
        "            j -= 1\n",
        "\n",
        "    A[S] = A[j]\n",
        "    A[j] = pivot\n",
        "    return j\n",
        "\n",
        "\n",
        "\n",
        "quickSort(0, N-1, K-1)\n",
        "print(A[k-1])"
      ]
    },
    {
      "cell_type": "code",
      "source": [
        "# 백준 2751\n",
        "\n",
        "def mergeSort(s, e):\n",
        "    if e - s < 1: return # two indices cross\n",
        "    m = int((s+e)/2)\n",
        "    mergeSort(s, m) # 왼쪽 정렬시키기\n",
        "    mergeSort(m+1,e) # 오른쪽 정렬시키기\n",
        "    for i in range(s, e+1):\n",
        "        tmp[i] = A[i]\n",
        "    k = s\n",
        "    index1 = s\n",
        "    index2 = m+1\n",
        "    while index1 <= m and index2 <= e:\n",
        "        if tmp[index1] > tmp[index2]:\n",
        "            A[k] = tmp[index2]\n",
        "            k += 1\n",
        "            index2 += 1\n",
        "        else:\n",
        "            A[k] = tmp[index1]\n",
        "            k +=1\n",
        "            index1 += 1\n",
        "\n",
        "    while index1 <= m:\n",
        "        A[k] = tmp[index1]\n",
        "        k += 1\n",
        "        index1 += 1\n",
        "\n",
        "    while index2 <= e:\n",
        "        A[k] = tmp[index2]\n",
        "        k += 1\n",
        "        index2 += 1\n",
        "\n",
        "N = int(input())\n",
        "A = [0] * int(N+1) # shallow copy\n",
        "tmp = [0] * int(N+1) # shallow copy\n",
        "\n",
        "for i in range(1,N+1):\n",
        "    A[i] = int(input())\n",
        "\n",
        "mergeSort(1,N)\n",
        "\n",
        "for i in range(1,N+1):\n",
        "    print(str(A[i]) + '\\n')"
      ],
      "metadata": {
        "id": "tErX3kbWTl0n"
      },
      "execution_count": null,
      "outputs": []
    },
    {
      "cell_type": "code",
      "source": [
        "# Homework\n",
        "# Problems by 홍진규\n",
        "\n",
        "# Problem 1.\n",
        "# Ans d.\n",
        "\n",
        "# Problem 2.\n",
        "class Animal:\n",
        "    def __init__(self,name,sound):\n",
        "        self.name = name\n",
        "        self.sound = sound\n",
        "\n",
        "    def speak(self):\n",
        "        print(f'{self.name}가 {self.sound} 소리를 냅니다.')\n",
        "\n",
        "class Dog(Animal):\n",
        "    def __init__(self,name,sound='멍멍'):\n",
        "        super().__init__(name,sound)\n",
        "\n",
        "    def speak(self):\n",
        "        print(f'강아지 {self.name}가 {self.sound} 소리를 냅니다.')\n",
        "\n",
        "dog1 = Dog('멍멍이','바우바우')\n",
        "dog1.speak()"
      ],
      "metadata": {
        "colab": {
          "base_uri": "https://localhost:8080/"
        },
        "id": "tBR4qP4zT6e9",
        "outputId": "89b489f0-6821-4a8f-927d-ffdc299fdea7"
      },
      "execution_count": null,
      "outputs": [
        {
          "output_type": "stream",
          "name": "stdout",
          "text": [
            "강아지 멍멍이가 바우바우 소리를 냅니다.\n"
          ]
        }
      ]
    },
    {
      "cell_type": "code",
      "source": [
        "# problems by 이진원\n",
        "# problem 1.\n",
        "class Animal:\n",
        "    def speak(self):\n",
        "        return \"Animal speaks\"\n",
        "\n",
        "class Dog(Animal):\n",
        "    def speak(self):\n",
        "        return 'Woof!'\n",
        "\n",
        "dog1 = Dog()\n",
        "print(dog1.speak())"
      ],
      "metadata": {
        "colab": {
          "base_uri": "https://localhost:8080/"
        },
        "id": "-Y9XfoTPVNIo",
        "outputId": "bb640313-b539-4592-bb6b-0eef64ddf398"
      },
      "execution_count": null,
      "outputs": [
        {
          "output_type": "stream",
          "name": "stdout",
          "text": [
            "Woof!\n"
          ]
        }
      ]
    },
    {
      "cell_type": "code",
      "source": [
        "# problem 2.\n",
        "# 정규표현식과 이터레이터를 활용한 단어 필터링\n",
        "# 문제: 텍스트 파일을 읽어 특정 패턴(예: ing로 끝나는 단어)을 찾고, 이를 이터레이터를 사용하여 한 줄씩 반환하는 프로그램을 작성하시오.\n",
        "\n",
        "# 클래스 WordFilter를 작성하여 iter()를 구현하고 이터레이터를 활용\n",
        "# re 모듈을 이용하여 정규표현식으로 단어 필터링\n",
        "\n",
        "# with open('./data.txt', 'w', encoding='utf-8') as f:\n",
        "#     data = '''This is a simple testing file.\n",
        "# We are running and jumping in the park.\n",
        "# Walking and swimming are great exercises.\n",
        "# The weather is shining brightly today.\n",
        "# Enjoying a good book is relaxing.\n",
        "# They are discussing an interesting topic.\n",
        "# Coding and debugging are essential skills for developers.\n",
        "# Traveling around the world is a dream for many.\n",
        "# Some people prefer hiking while others enjoy fishing.\n",
        "# He was whispering something before leaving the room.'''\n",
        "#     f.write(data)\n",
        "\n",
        "# with open('./data.txt','r',encoding='utf-8') as file:\n",
        "#     data = file.read()\n",
        "\n",
        "data =r'''This is a simple testing file.\n",
        "               We are running and jumping in the park.\n",
        "Walking and swimming are great exercises.\n",
        "The weather is shining brightly today.\n",
        "Enjoying a good book is relaxing.\n",
        "They are discussing an interesting topic.\n",
        "Coding and debugging are essential skills for developers.\n",
        "Traveling around the world is a dream for many.\n",
        "Some people prefer hiking while others enjoy fishing.\n",
        "He was whispering something before leaving the room.'''\n",
        "import re\n",
        "\n",
        "p = re.compile('[a-zA-Z]+ing')\n",
        "m = p.findall(data)\n",
        "m = iter(m)\n",
        "for i in m:\n",
        "    print(i)"
      ],
      "metadata": {
        "id": "UKJGoPwuWfSo"
      },
      "execution_count": null,
      "outputs": []
    }
  ]
}