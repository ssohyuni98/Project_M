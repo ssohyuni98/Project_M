{
 "cells": [
  {
   "cell_type": "markdown",
   "metadata": {},
   "source": [
    "list와 deque 속도 비교"
   ]
  },
  {
   "cell_type": "code",
   "execution_count": 1,
   "metadata": {},
   "outputs": [
    {
     "name": "stdout",
     "output_type": "stream",
     "text": [
      "list, 삽입 수행 시간, 0.49269628524780273 초\n",
      "list, pop(0) 수행 시간, 5.943576335906982 초\n",
      "\n",
      "deque, 삽입 수행 시간, 0.3622157573699951 초\n",
      "deque, pop(0) 수행 시간, 0.0 초\n"
     ]
    }
   ],
   "source": [
    "import time\n",
    "from collections import deque\n",
    "\n",
    "\n",
    "def insert_and_pop(container, desc):\n",
    "    arr = range(10000000)\n",
    "\n",
    "    start = time.time()\n",
    "    for n in arr:\n",
    "        container.append(arr)\n",
    "    print(f'{desc}, 삽입 수행 시간, {time.time() - start} 초')\n",
    "\n",
    "    start = time.time()\n",
    "    for i in range(1000):\n",
    "        if type(container) is list:\n",
    "            container.pop(0)\n",
    "        else:\n",
    "            container.popleft()\n",
    "    print(f'{desc}, pop(0) 수행 시간, {time.time() - start} 초')\n",
    "\n",
    "\n",
    "\n",
    "l = list()\n",
    "d = deque()\n",
    "\n",
    "insert_and_pop(l, 'list')\n",
    "print()\n",
    "insert_and_pop(d, 'deque')"
   ]
  },
  {
   "cell_type": "markdown",
   "metadata": {},
   "source": [
    "예제 풀이 코드\n",
    "이 코드들은 노트북환경(.ipynbg 확장자 파일)에서는 잘 작동이 안됩니다!\n",
    "파이썬에서 실행시켜야돼요!(.py확장자) \n",
    "일단 코드 첨부만 할게요!"
   ]
  },
  {
   "cell_type": "code",
   "execution_count": null,
   "metadata": {},
   "outputs": [],
   "source": [
    "#제로로\n",
    "import sys\n",
    "from collections import deque\n",
    "\n",
    "a = int(sys.stdin.readline())\n",
    "num_list = [int(sys.stdin.readline().strip()) for _ in range(a)]\n",
    "stack = deque(num_list)\n",
    "bin_list = deque()\n",
    "for k in range(a):\n",
    "    now_num = stack.popleft()\n",
    "    if now_num == 0 :\n",
    "        bin_list.pop()\n",
    "    else:\n",
    "        bin_list.append(now_num)\n",
    "# print(bin_list)\n",
    "print(sum(bin_list))\n",
    "# print(num_list)"
   ]
  },
  {
   "cell_type": "code",
   "execution_count": null,
   "metadata": {},
   "outputs": [],
   "source": [
    "#괄호\n",
    "\n",
    "import sys\n",
    "\n",
    "def test(input_list):\n",
    "    new_l = []\n",
    "    for i in input_list:\n",
    "        if i in \"({[\":\n",
    "            new_l.append(i)\n",
    "        elif i in \")]}\" :\n",
    "            if not new_l:\n",
    "                return \"NO\"\n",
    "            top = new_l.pop()\n",
    "            # print(new_l)\n",
    "            if (i == \")\" and top != \"(\") or\\\n",
    "                (i == \"}\" and top != \"{\") or\\\n",
    "                (i == \"]\" and top != \"[\") :\n",
    "                return \"NO\"\n",
    "    if len(new_l) != 0:\n",
    "        return \"NO\"\n",
    "    return \"YES\"\n",
    "\n",
    "a = int(sys.stdin.readline().strip())\n",
    "for num in range(a):\n",
    "    text = sys.stdin.readline().strip()\n",
    "    print(test(text))"
   ]
  }
 ],
 "metadata": {
  "kernelspec": {
   "display_name": "PARK",
   "language": "python",
   "name": "park"
  },
  "language_info": {
   "codemirror_mode": {
    "name": "ipython",
    "version": 3
   },
   "file_extension": ".py",
   "mimetype": "text/x-python",
   "name": "python",
   "nbconvert_exporter": "python",
   "pygments_lexer": "ipython3",
   "version": "3.12.7"
  }
 },
 "nbformat": 4,
 "nbformat_minor": 2
}
