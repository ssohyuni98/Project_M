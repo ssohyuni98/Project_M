{
 "cells": [
  {
   "cell_type": "code",
   "execution_count": 2,
   "metadata": {},
   "outputs": [
    {
     "name": "stdout",
     "output_type": "stream",
     "text": [
      "stack: [4, 3, 2]\n",
      "visited: [1]\n",
      "stack: [4, 3, 6, 5]\n",
      "visited: [1, 2]\n",
      "stack: [4, 3, 6, 9, 2]\n",
      "visited: [1, 2, 5]\n",
      "stack: [4, 3, 6, 6, 5]\n",
      "visited: [1, 2, 5, 9]\n",
      "stack: [4, 3, 6, 9, 2]\n",
      "visited: [1, 2, 5, 9, 6]\n",
      "stack: [4, 7, 1]\n",
      "visited: [1, 2, 5, 9, 6, 3]\n",
      "stack: [4, 10, 3]\n",
      "visited: [1, 2, 5, 9, 6, 3, 7]\n",
      "stack: [4, 8, 7]\n",
      "visited: [1, 2, 5, 9, 6, 3, 7, 10]\n",
      "stack: [4, 10, 4]\n",
      "visited: [1, 2, 5, 9, 6, 3, 7, 10, 8]\n",
      "stack: [4, 10, 8, 1]\n",
      "visited: [1, 2, 5, 9, 6, 3, 7, 10, 8, 4]\n",
      "DFS: [1, 2, 5, 9, 6, 3, 7, 10, 8, 4]\n"
     ]
    }
   ],
   "source": [
    "# GPT_dfs\n",
    "\n",
    "my_graph = {1:[2,3,4],\n",
    "         2:[5,6],\n",
    "         3:[1,7],\n",
    "         4:[1,8],\n",
    "         5:[2,9],\n",
    "         6:[2,9],\n",
    "         7:[3,10],\n",
    "         8:[4,10],\n",
    "         9:[5,6],\n",
    "         10:[7,8]}\n",
    "\n",
    "def my_dfs(graph,start_node):\n",
    "    stack = []                   #1 탐색할 노드를 탐을 스택 자료형 생성\n",
    "    visited = []                 #2 각 노드가 방문한 노드인지를 구분할 수 있는 리스트 생성\n",
    "    stack.append(start_node)    \n",
    "    while stack:                 #3 탐색 시작 노드를 스택에 삽입\n",
    "        node = stack.pop()       #4 방문할 노드를 스택에서 하나씩 꺼내기기\n",
    "        if node not in visited:\n",
    "            stack+=(reversed(graph[node])) #5 스택에서 꺼낸 노드가 방문한 노드가 아니면 \n",
    "            print(f'stack: {stack}')            # 인접 노드를 스택에 삽입하고 방문 처리                    \n",
    "            visited.append(node)         \n",
    "            print(f'visited: {visited}')\n",
    "    return visited\n",
    "    \n",
    "print(\"DFS:\",my_dfs(my_graph,1))\n",
    "\n"
   ]
  },
  {
   "cell_type": "code",
   "execution_count": 6,
   "metadata": {},
   "outputs": [
    {
     "name": "stdout",
     "output_type": "stream",
     "text": [
      "5\n",
      "4\n",
      "3\n",
      "2\n",
      "1\n",
      "끝!\n"
     ]
    }
   ],
   "source": [
    "# 재귀 간단한 예제\n",
    "\n",
    "def countdown(n):\n",
    "    if n == 0:\n",
    "        print('끝!') # 기저 조건 필수!\n",
    "        return\n",
    "    print(n)\n",
    "    countdown(n - 1)\n",
    "countdown(5)"
   ]
  },
  {
   "cell_type": "code",
   "execution_count": null,
   "metadata": {},
   "outputs": [],
   "source": [
    "# 1부터 N까지의 합\n",
    "\n",
    "#1) 반복문으로 구현\n",
    "def sum_iterative(n):\n",
    "    total = 0\n",
    "    for i in range(1, n + 1):\n",
    "        total += i\n",
    "    return total\n",
    "\n",
    "print(sum_iterative(5))  # 출력: 15\n",
    "\n",
    "#2) 재귀로 구현\n",
    "def sum_recursive(n):\n",
    "    if n == 1:  # 기저 조건\n",
    "        return 1\n",
    "    return n + sum_recursive(n - 1)  # 자기 자신을 호출\n",
    "\n",
    "print(sum_recursive(5))  # 출력: 15\n"
   ]
  },
  {
   "cell_type": "code",
   "execution_count": 12,
   "metadata": {},
   "outputs": [
    {
     "name": "stdout",
     "output_type": "stream",
     "text": [
      "재귀 DFS: [1, 2, 5, 9, 6, 3, 7, 10, 8, 4]\n",
      "stack: [4, 3, 2]\n",
      "visited: [1]\n",
      "stack: [4, 3, 6, 5]\n",
      "visited: [1, 2]\n",
      "stack: [4, 3, 6, 9, 2]\n",
      "visited: [1, 2, 5]\n",
      "stack: [4, 3, 6, 6, 5]\n",
      "visited: [1, 2, 5, 9]\n",
      "stack: [4, 3, 6, 9, 2]\n",
      "visited: [1, 2, 5, 9, 6]\n",
      "stack: [4, 7, 1]\n",
      "visited: [1, 2, 5, 9, 6, 3]\n",
      "stack: [4, 10, 3]\n",
      "visited: [1, 2, 5, 9, 6, 3, 7]\n",
      "stack: [4, 8, 7]\n",
      "visited: [1, 2, 5, 9, 6, 3, 7, 10]\n",
      "stack: [4, 10, 4]\n",
      "visited: [1, 2, 5, 9, 6, 3, 7, 10, 8]\n",
      "stack: [4, 10, 8, 1]\n",
      "visited: [1, 2, 5, 9, 6, 3, 7, 10, 8, 4]\n",
      "DFS: [1, 2, 5, 9, 6, 3, 7, 10, 8, 4]\n"
     ]
    },
    {
     "ename": "",
     "evalue": "",
     "output_type": "error",
     "traceback": [
      "\u001b[1;31m현재 셀 또는 이전 셀에서 코드를 실행하는 동안 Kernel이 충돌했습니다. \n",
      "\u001b[1;31m셀의 코드를 검토하여 가능한 오류 원인을 식별하세요. \n",
      "\u001b[1;31m자세한 내용을 보려면 <a href='https://aka.ms/vscodeJupyterKernelCrash'>여기</a>를 클릭하세요. \n",
      "\u001b[1;31m자세한 내용은 Jupyter <a href='command:jupyter.viewOutput'>로그</a>를 참조하세요."
     ]
    }
   ],
   "source": [
    "# GPT_recursive\n",
    "\n",
    "my_graph = {1:[2,3,4],\n",
    "         2:[5,6],\n",
    "         3:[1,7],\n",
    "         4:[1,8],\n",
    "         5:[2,9],\n",
    "         6:[2,9],\n",
    "         7:[3,10],\n",
    "         8:[4,10],\n",
    "         9:[5,6],\n",
    "         10:[7,8]}\n",
    "\n",
    "def recursive_dfs(graph,node,visited):\n",
    "    if node not in visited:             # 현재 노드가 방문 리스트에 없으면 실행\n",
    "        visited.append(node)            # 현재 노드를 방문 리스트에 추가가\n",
    "        for neighbor in graph[node]:    # 현재 노드에 연결된 모든 이웃 노드 탐색\n",
    "            recursive_dfs(graph,neighbor,visited)   # 이웃 노드에 대해 재귀 호출\n",
    "    return visited                      # 방문 완료된 리스트 반환\n",
    "\n",
    "print(\"재귀 DFS:\", recursive_dfs(my_graph,1,[]))\n",
    "\n",
    "\n",
    "# 1) 스택 기반 DFS가 좋은 경우\n",
    "# 그래프가 매우 크고 깊이가 깊은 경우\n",
    "# 비재귀적인 접근 필요한 경우\n",
    "# 루프 기반 탐색을 원할 때\n",
    "\n",
    "# 2) 재귀 DFS가 좋은 경우\n",
    "# 코드가 더 간결하고 직관적인게 중요할 때\n",
    "# 재귀적으로 자연스럽게 표현되는 문제\n",
    "# 함수 호출을 이용한 탐색이 편할 때"
   ]
  },
  {
   "cell_type": "code",
   "execution_count": 4,
   "metadata": {},
   "outputs": [
    {
     "name": "stdout",
     "output_type": "stream",
     "text": [
      "queue: [2]\n",
      "visited: [1]\n",
      "queue: [2, 3]\n",
      "visited: [1]\n",
      "queue: [2, 3, 4]\n",
      "visited: [1]\n",
      "queue: [3, 4, 5]\n",
      "visited: [1, 2]\n",
      "queue: [3, 4, 5, 6]\n",
      "visited: [1, 2]\n",
      "queue: [4, 5, 6, 7]\n",
      "visited: [1, 2, 3]\n",
      "queue: [5, 6, 7, 8]\n",
      "visited: [1, 2, 3, 4]\n",
      "queue: [6, 7, 8, 9]\n",
      "visited: [1, 2, 3, 4, 5]\n",
      "queue: [7, 8, 9, 9]\n",
      "visited: [1, 2, 3, 4, 5, 6]\n",
      "queue: [8, 9, 9, 10]\n",
      "visited: [1, 2, 3, 4, 5, 6, 7]\n",
      "queue: [9, 9, 10, 10]\n",
      "visited: [1, 2, 3, 4, 5, 6, 7, 8]\n",
      "BFS: [1, 2, 3, 4, 5, 6, 7, 8, 9, 10]\n"
     ]
    }
   ],
   "source": [
    "# GPT_BFS\n",
    "my_graph = {1:[2,3,4],\n",
    "         2:[5,6],\n",
    "         3:[1,7],\n",
    "         4:[1,8],\n",
    "         5:[2,9],\n",
    "         6:[2,9],\n",
    "         7:[3,10],\n",
    "         8:[4,10],\n",
    "         9:[5,6],\n",
    "         10:[7,8]}\n",
    "\n",
    "def my_bfs(start_node,graph):\n",
    "    queue = list()\n",
    "    visited = list()\n",
    "    queue.append(start_node)\n",
    "\n",
    "    while queue:\n",
    "        node = queue.pop(0)\n",
    "        if node not in visited:\n",
    "            queue+=(graph[node])\n",
    "            visited.append(node)\n",
    "            print(\"queue:\",queue)\n",
    "            print(\"visited:\",visited)\n",
    "    return visited\n",
    "    \n",
    "print(\"BFS:\",my_bfs(1,my_graph))\n",
    "\n",
    "\n"
   ]
  },
  {
   "cell_type": "code",
   "execution_count": 1,
   "metadata": {},
   "outputs": [
    {
     "name": "stdout",
     "output_type": "stream",
     "text": [
      "BFS (Recursive): [1, 2, 3, 4, 5, 6, 7, 8, 9, 10]\n"
     ]
    }
   ],
   "source": [
    "# 재귀 BFS\n",
    "my_graph = {1:[2,3,4],\n",
    "            2:[5,6],\n",
    "            3:[1,7],\n",
    "            4:[1,8],\n",
    "            5:[2,9],\n",
    "            6:[2,9],\n",
    "            7:[3,10],\n",
    "            8:[4,10],\n",
    "            9:[5,6],\n",
    "            10:[7,8]}\n",
    "\n",
    "def my_bfs_recursive(queue, visited, graph):\n",
    "    if not queue:  # 큐가 비면 종료\n",
    "        return visited\n",
    "\n",
    "    node = queue.pop(0)  # 큐의 맨 앞 노드 꺼내기\n",
    "    if node not in visited:\n",
    "        visited.append(node)  # 방문 처리\n",
    "        queue.extend(graph[node])  # 인접 노드 추가\n",
    "    \n",
    "    return my_bfs_recursive(queue, visited, graph)  # 재귀 호출\n",
    "\n",
    "# BFS 실행\n",
    "start_node = 1\n",
    "print(\"BFS (Recursive):\", my_bfs_recursive([start_node], [], my_graph))\n"
   ]
  }
 ],
 "metadata": {
  "kernelspec": {
   "display_name": "Python 3",
   "language": "python",
   "name": "python3"
  },
  "language_info": {
   "codemirror_mode": {
    "name": "ipython",
    "version": 3
   },
   "file_extension": ".py",
   "mimetype": "text/x-python",
   "name": "python",
   "nbconvert_exporter": "python",
   "pygments_lexer": "ipython3",
   "version": "3.11.8"
  }
 },
 "nbformat": 4,
 "nbformat_minor": 2
}
